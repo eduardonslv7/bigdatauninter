{
  "cells": [
    {
      "cell_type": "markdown",
      "metadata": {
        "id": "-TV8DaxMKq5a"
      },
      "source": [
        "# Comandos para realização do trabalho da matéria de Big Data com uso da biblioteca PySpark.\n",
        "\n",
        "## <font color=red>Observação importante:</font>\n",
        "\n",
        "<font color=yellow>Trabalho realizado com uso da biblioteca pandas não será aceito!</font>"
      ]
    },
    {
      "cell_type": "markdown",
      "metadata": {
        "id": "H-kY80CNKq5e"
      },
      "source": [
        "## Upload do arquivo `imdb-reviews-pt-br.csv` para dentro do Google Colab"
      ]
    },
    {
      "cell_type": "code",
      "execution_count": 1,
      "metadata": {
        "colab": {
          "base_uri": "https://localhost:8080/"
        },
        "id": "4nGNLkkFKq5f",
        "outputId": "48312698-aff4-4879-c6ad-ba12d9a7b306"
      },
      "outputs": [
        {
          "output_type": "stream",
          "name": "stdout",
          "text": [
            "--2024-10-28 23:02:22--  https://raw.githubusercontent.com/N-CPUninter/Big_Data/main/data/imdb-reviews-pt-br.zip\n",
            "Resolving raw.githubusercontent.com (raw.githubusercontent.com)... 185.199.109.133, 185.199.108.133, 185.199.111.133, ...\n",
            "Connecting to raw.githubusercontent.com (raw.githubusercontent.com)|185.199.109.133|:443... connected.\n",
            "HTTP request sent, awaiting response... 200 OK\n",
            "Length: 49549692 (47M) [application/zip]\n",
            "Saving to: ‘imdb-reviews-pt-br.zip’\n",
            "\n",
            "imdb-reviews-pt-br. 100%[===================>]  47.25M  94.8MB/s    in 0.5s    \n",
            "\n",
            "2024-10-28 23:02:23 (94.8 MB/s) - ‘imdb-reviews-pt-br.zip’ saved [49549692/49549692]\n",
            "\n",
            "Archive:  imdb-reviews-pt-br.zip\n",
            "  inflating: imdb-reviews-pt-br.csv  \n"
          ]
        }
      ],
      "source": [
        "!wget https://raw.githubusercontent.com/N-CPUninter/Big_Data/main/data/imdb-reviews-pt-br.zip -O imdb-reviews-pt-br.zip\n",
        "!unzip imdb-reviews-pt-br.zip\n",
        "!rm imdb-reviews-pt-br.zip"
      ]
    },
    {
      "cell_type": "markdown",
      "metadata": {
        "id": "OrITDuNyKq5g"
      },
      "source": [
        "## Instalação manual das dependências para uso do pyspark no Google Colab"
      ]
    },
    {
      "cell_type": "code",
      "execution_count": 2,
      "metadata": {
        "colab": {
          "base_uri": "https://localhost:8080/"
        },
        "id": "_sc5mNHFKq5h",
        "outputId": "4b9bfce6-9a09-45ff-8121-50ed1c5cee6e"
      },
      "outputs": [
        {
          "output_type": "stream",
          "name": "stdout",
          "text": [
            "Requirement already satisfied: pyspark in /usr/local/lib/python3.10/dist-packages (3.5.3)\n",
            "Requirement already satisfied: py4j==0.10.9.7 in /usr/local/lib/python3.10/dist-packages (from pyspark) (0.10.9.7)\n"
          ]
        }
      ],
      "source": [
        "!pip install pyspark"
      ]
    },
    {
      "cell_type": "markdown",
      "metadata": {
        "id": "UFvv7ijwKq5i"
      },
      "source": [
        "## Importar, instanciar e criar a SparkSession"
      ]
    },
    {
      "cell_type": "code",
      "execution_count": 3,
      "metadata": {
        "id": "3MWF02wGKq5j"
      },
      "outputs": [],
      "source": [
        "from pyspark.sql import SparkSession\n",
        "\n",
        "appName = \"PySpark Trabalho de Big Data\"\n",
        "master = \"local\"\n",
        "\n",
        "spark = SparkSession.builder.appName(appName).master(master).getOrCreate()"
      ]
    },
    {
      "cell_type": "markdown",
      "metadata": {
        "id": "d4fHJZjXKq5j"
      },
      "source": [
        "## Criar spark dataframe do CSV utilizando o método read.csv do spark"
      ]
    },
    {
      "cell_type": "code",
      "execution_count": 4,
      "metadata": {
        "id": "0tc9UpoWKq5k"
      },
      "outputs": [],
      "source": [
        "imdb_df = spark.read.csv('imdb-reviews-pt-br.csv',\n",
        "                         header=True,\n",
        "                         quote=\"\\\"\",\n",
        "                         escape=\"\\\"\",\n",
        "                         encoding=\"UTF-8\")"
      ]
    },
    {
      "cell_type": "code",
      "source": [
        "imdb_df.show(5)  # Mostra as 5 primeiras linhas do DataFrame para verificação"
      ],
      "metadata": {
        "colab": {
          "base_uri": "https://localhost:8080/"
        },
        "id": "_mOQ7Kv5XLOm",
        "outputId": "19623b29-ed27-48aa-fde8-4bb73cd443f3"
      },
      "execution_count": 5,
      "outputs": [
        {
          "output_type": "stream",
          "name": "stdout",
          "text": [
            "+---+--------------------+--------------------+---------+\n",
            "| id|             text_en|             text_pt|sentiment|\n",
            "+---+--------------------+--------------------+---------+\n",
            "|  1|Once again Mr. Co...|Mais uma vez, o S...|      neg|\n",
            "|  2|This is an exampl...|Este é um exemplo...|      neg|\n",
            "|  3|First of all I ha...|Primeiro de tudo ...|      neg|\n",
            "|  4|Not even the Beat...|Nem mesmo os Beat...|      neg|\n",
            "|  5|Brass pictures mo...|Filmes de fotos d...|      neg|\n",
            "+---+--------------------+--------------------+---------+\n",
            "only showing top 5 rows\n",
            "\n"
          ]
        }
      ]
    },
    {
      "cell_type": "markdown",
      "metadata": {
        "id": "11aUWszyKq5l"
      },
      "source": [
        "# Questão 1"
      ]
    },
    {
      "cell_type": "markdown",
      "metadata": {
        "id": "aWKJKkfwKq5l"
      },
      "source": [
        "## Criar funções de MAP:\n",
        "- Criar função para mapear o \"sentiment\" como chave e o \"id\" como valor do tipo inteiro"
      ]
    },
    {
      "cell_type": "code",
      "execution_count": 6,
      "metadata": {
        "id": "MNGfPFmIKq5l"
      },
      "outputs": [],
      "source": [
        "# Função map para filtrar e mapear os IDs dos sentimentos negativos\n",
        "def map1(row):\n",
        "    # Verifica se o sentimento é \"neg\"\n",
        "    if row['sentiment'] == 'neg':\n",
        "        # Retorna tupla com (sentiment, id)\n",
        "        return (row['sentiment'], int(row['id']))\n",
        "    else:\n",
        "        # Ignora os sentimentos não negativos\n",
        "        return None\n"
      ]
    },
    {
      "cell_type": "markdown",
      "metadata": {
        "id": "Eo-3IapIKq5m"
      },
      "source": [
        "## Cria funções de REDUCE:\n",
        "\n",
        "- Criar função de reduce para somar os IDs por \"sentiment\"."
      ]
    },
    {
      "cell_type": "code",
      "execution_count": 7,
      "metadata": {
        "id": "3Qmvqhd_Kq5m"
      },
      "outputs": [],
      "source": [
        "# Função reduce para somar os IDs por sentimento\n",
        "def reduceByKey1(x, y):\n",
        "    # Soma dos IDs (se ambos x e y forem IDs, simplesmente retorna a soma)\n",
        "    return x + y\n"
      ]
    },
    {
      "cell_type": "markdown",
      "metadata": {
        "id": "JDFMytUBKq5m"
      },
      "source": [
        "## Aplicação do map/reduce e visualização do resultado"
      ]
    },
    {
      "cell_type": "code",
      "execution_count": 8,
      "metadata": {
        "colab": {
          "base_uri": "https://localhost:8080/"
        },
        "id": "Fqxt8e4vKq5m",
        "outputId": "97cf1942-ca84-4aa1-9ee8-25cb49f2b88c"
      },
      "outputs": [
        {
          "output_type": "stream",
          "name": "stdout",
          "text": [
            "Soma dos IDs para sentimento negativo: 459568555\n"
          ]
        }
      ],
      "source": [
        "# Converte DataFrame para RDD\n",
        "rdd = imdb_df.rdd\n",
        "\n",
        "# Aplica a função map e filtra valores None\n",
        "mapped_rdd = rdd.map(map1).filter(lambda x: x is not None)\n",
        "\n",
        "# Aplica reduceByKey para somar os IDs dos sentimentos negativos\n",
        "result_rdd = mapped_rdd.reduceByKey(reduceByKey1)\n",
        "\n",
        "# Coleta e exibe o resultado\n",
        "results = result_rdd.collect()\n",
        "\n",
        "# Filtrando e exibindo apenas os resultados para 'negativo'\n",
        "negative_sum = sum(value for sentiment, value in results if sentiment == 'neg')\n",
        "\n",
        "print(\"Soma dos IDs para sentimento negativo:\", negative_sum)\n"
      ]
    },
    {
      "cell_type": "markdown",
      "metadata": {
        "id": "6RCxRVfUKq5m"
      },
      "source": [
        "# Questão 2:"
      ]
    },
    {
      "cell_type": "markdown",
      "metadata": {
        "id": "mV3iG-jkKq5m"
      },
      "source": [
        "## Criar funções de MAP:\n",
        "- Criar função para mapear o \"sentiment\" como chave e uma tupla com a soma das palavras de cada texto como valor."
      ]
    },
    {
      "cell_type": "code",
      "execution_count": 9,
      "metadata": {
        "id": "61qhYmn9Kq5n"
      },
      "outputs": [],
      "source": [
        "# Função map para contar palavras e retornar tupla com o número de palavras e o idioma\n",
        "def map2(row):\n",
        "    # Verifica se o sentimento é \"negativo\"\n",
        "    if row['sentiment'] == 'neg':\n",
        "        # Verifica se o texto é em português ou inglês\n",
        "        if row['text_pt']:\n",
        "            text = row['text_pt']\n",
        "            language = 'pt'\n",
        "        elif row['text_en']:\n",
        "            text = row['text_en']\n",
        "            language = 'en'\n",
        "        else:\n",
        "            # Se não houver texto em nenhum dos idiomas, ignora\n",
        "            return None\n",
        "\n",
        "        # Contagem de palavras\n",
        "        words = len(text.split())\n",
        "        # Retorna tupla com (idioma, número de palavras)\n",
        "        return (language, words)\n",
        "    else:\n",
        "        # Ignora os sentimentos não negativos\n",
        "        return None\n"
      ]
    },
    {
      "cell_type": "markdown",
      "metadata": {
        "id": "VCG7mD25Kq5n"
      },
      "source": [
        "## Cria funções de REDUCE:\n",
        "\n",
        "- Criar função de reduce para somar o numero de palavras de cada texto português e inglês por \"sentiment\"."
      ]
    },
    {
      "cell_type": "code",
      "execution_count": 10,
      "metadata": {
        "id": "MTslbZ67Kq5n"
      },
      "outputs": [],
      "source": [
        "# Função reduce para somar as contagens de palavras por idioma\n",
        "def reduceByKey2(x, y):\n",
        "    # Soma das contagens de palavras\n",
        "    return x + y"
      ]
    },
    {
      "cell_type": "markdown",
      "metadata": {
        "id": "NkR96iMWKq5n"
      },
      "source": [
        "## Aplicação do map/reduce e visualização do resultado\n",
        "\n",
        "1. Aplicar o map/reduce no seu dataframe spark e realizar o collect() ao final\n",
        "2. Selecionar os dados referentes aos textos negativos para realizar a subtração.\n",
        "3. Realizar a subtração das contagens de palavras dos textos negativos para obter o resultado final"
      ]
    },
    {
      "cell_type": "code",
      "execution_count": 12,
      "metadata": {
        "colab": {
          "base_uri": "https://localhost:8080/"
        },
        "id": "17k8R3cGKq5n",
        "outputId": "08877d33-aa89-4b00-f681-eb285075f981"
      },
      "outputs": [
        {
          "output_type": "stream",
          "name": "stdout",
          "text": [
            "Total de palavras nos textos negativos em português: 5455273\n",
            "Total de palavras nos textos negativos em inglês: 5400324\n",
            "Diferença total de palavras (português - inglês): 54949\n"
          ]
        }
      ],
      "source": [
        "# Converte DataFrame para RDD\n",
        "rdd = imdb_df.rdd\n",
        "\n",
        "# Função para mapear o \"sentiment\" como chave e a contagem de palavras como valor\n",
        "def map2(row):\n",
        "    if row['sentiment'] == 'neg':\n",
        "        # Contando palavras nos textos em português e inglês\n",
        "        pt_words = len(row['text_pt'].split()) if row['text_pt'] else 0\n",
        "        en_words = len(row['text_en'].split()) if row['text_en'] else 0\n",
        "        # Retorna duas tuplas: uma para português e outra para inglês\n",
        "        return [('pt', pt_words), ('en', en_words)]\n",
        "    return []  # Retorna uma lista vazia em vez de None\n",
        "\n",
        "# Aplica a função map e usa flatMap para desdobrar as tuplas\n",
        "mapped_rdd = rdd.flatMap(map2).filter(lambda x: x) # remove empty lists\n",
        "\n",
        "# Função para somar as contagens de palavras\n",
        "def reduceByKey2(x, y):\n",
        "    return x + y\n",
        "\n",
        "# Agrupa por idioma e soma as contagens de palavras\n",
        "result_rdd = mapped_rdd.reduceByKey(reduceByKey2)\n",
        "\n",
        "# Coleta os resultados\n",
        "results = result_rdd.collect()\n",
        "\n",
        "# Inicializa contadores\n",
        "portuguese_count = 0\n",
        "english_count = 0\n",
        "\n",
        "# Itera pelos resultados para calcular os totais\n",
        "for lang, count in results:\n",
        "    if lang == 'pt':\n",
        "        portuguese_count += count\n",
        "    elif lang == 'en':\n",
        "        english_count += count\n",
        "\n",
        "# Calcula a diferença\n",
        "difference = portuguese_count - english_count\n",
        "\n",
        "# Exibe os resultados\n",
        "print(\"Total de palavras nos textos negativos em português:\", portuguese_count)\n",
        "print(\"Total de palavras nos textos negativos em inglês:\", english_count)\n",
        "print(\"Diferença total de palavras (português - inglês):\", difference)\n"
      ]
    },
    {
      "cell_type": "markdown",
      "source": [],
      "metadata": {
        "id": "8i5oo9SDUQqE"
      }
    }
  ],
  "metadata": {
    "language_info": {
      "name": "python"
    },
    "orig_nbformat": 4,
    "colab": {
      "provenance": []
    },
    "kernelspec": {
      "name": "python3",
      "display_name": "Python 3"
    }
  },
  "nbformat": 4,
  "nbformat_minor": 0
}